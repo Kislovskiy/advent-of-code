{
 "cells": [
  {
   "cell_type": "code",
   "execution_count": 1,
   "metadata": {},
   "outputs": [],
   "source": [
    "class Monkey():\n",
    "    def __init__(self, id: int, items: list, operation: callable):\n",
    "        self.id = id\n",
    "        self.items = items\n",
    "        self.operation = operation\n",
    "        \n",
    "        def test(self, number):\n",
    "            if self.operation(number):\n",
    "                return (self.items.pop(), destination)\n",
    "        \n",
    "        def receive(self, new_item):\n",
    "            self.items.append(new_item)"
   ]
  },
  {
   "cell_type": "code",
   "execution_count": 7,
   "metadata": {},
   "outputs": [],
   "source": [
    "monkey1 = Monkey(1)\n",
    "monkey2 = Monkey(2)"
   ]
  },
  {
   "cell_type": "code",
   "execution_count": 9,
   "metadata": {},
   "outputs": [
    {
     "name": "stdout",
     "output_type": "stream",
     "text": [
      "1\n",
      "2\n"
     ]
    }
   ],
   "source": [
    "print(monkey1.id)\n",
    "print(monkey2.id)"
   ]
  },
  {
   "cell_type": "code",
   "execution_count": 10,
   "metadata": {},
   "outputs": [
    {
     "name": "stdout",
     "output_type": "stream",
     "text": [
      "1\n"
     ]
    }
   ],
   "source": [
    "for monkey in (monkey1, monkey2):\n",
    "    if monkey.id == 1:\n",
    "        print(monkey.id)"
   ]
  },
  {
   "cell_type": "code",
   "execution_count": null,
   "metadata": {},
   "outputs": [],
   "source": [
    "monkeys = {\n",
    "    \"0\": {\n",
    "        \"items\": [79, 98],\n",
    "        \"operation\": lambda x: x * 19\n",
    "        \"test\": lambda x: \n",
    "    }\n",
    "}"
   ]
  },
  {
   "cell_type": "code",
   "execution_count": null,
   "metadata": {},
   "outputs": [],
   "source": [
    "for monkey in "
   ]
  },
  {
   "cell_type": "code",
   "execution_count": 25,
   "metadata": {},
   "outputs": [
    {
     "data": {
      "text/plain": [
       "['Monkey 0:\\n',\n",
       " '  Starting items: 79, 98\\n',\n",
       " '  Operation: new = old * 19\\n',\n",
       " '  Test: divisible by 23\\n',\n",
       " '    If true: throw to monkey 2\\n',\n",
       " '    If false: throw to monkey 3\\n',\n",
       " '\\n',\n",
       " 'Monkey 1:\\n',\n",
       " '  Starting items: 54, 65, 75, 74\\n',\n",
       " '  Operation: new = old + 6\\n',\n",
       " '  Test: divisible by 19\\n',\n",
       " '    If true: throw to monkey 2\\n',\n",
       " '    If false: throw to monkey 0\\n',\n",
       " '\\n',\n",
       " 'Monkey 2:\\n',\n",
       " '  Starting items: 79, 60, 97\\n',\n",
       " '  Operation: new = old * old\\n',\n",
       " '  Test: divisible by 13\\n',\n",
       " '    If true: throw to monkey 1\\n',\n",
       " '    If false: throw to monkey 3\\n',\n",
       " '\\n',\n",
       " 'Monkey 3:\\n',\n",
       " '  Starting items: 74\\n',\n",
       " '  Operation: new = old + 3\\n',\n",
       " '  Test: divisible by 17\\n',\n",
       " '    If true: throw to monkey 0\\n',\n",
       " '    If false: throw to monkey 1']"
      ]
     },
     "execution_count": 25,
     "metadata": {},
     "output_type": "execute_result"
    }
   ],
   "source": [
    "with open(\"data/puzzle_11_test.txt\", \"r\") as fi:\n",
    "    lines = fi.readlines()\n",
    "    \n",
    "lines"
   ]
  },
  {
   "cell_type": "code",
   "execution_count": 21,
   "metadata": {},
   "outputs": [
    {
     "data": {
      "text/plain": [
       "[[], [], [], []]"
      ]
     },
     "execution_count": 21,
     "metadata": {},
     "output_type": "execute_result"
    }
   ],
   "source": [
    "# items = [[] for _ in range(number_of_monkeys)]\n"
   ]
  },
  {
   "cell_type": "code",
   "execution_count": 65,
   "metadata": {},
   "outputs": [
    {
     "data": {
      "text/plain": [
       "[[98, 79], [74, 75, 65, 54], [97, 60, 79], [74]]"
      ]
     },
     "execution_count": 65,
     "metadata": {},
     "output_type": "execute_result"
    }
   ],
   "source": [
    "items = []\n",
    "operation = []\n",
    "for line in lines:\n",
    "    if line.startswith(\"  Starting items:\"):\n",
    "        items.append(list(reversed([int(x) for x in line.split(\":\")[1].strip().split(\",\")])))\n",
    "        \n",
    "items"
   ]
  },
  {
   "cell_type": "code",
   "execution_count": 124,
   "metadata": {},
   "outputs": [
    {
     "name": "stdout",
     "output_type": "stream",
     "text": [
      "round 0 \n",
      " [[20, 23, 27, 26], [2080, 25, 167, 207, 401, 1046], [], []]\n",
      "inspects=[2, 4, 3, 5]\n",
      "round 1 \n",
      " [[695, 10, 71, 135, 350], [43, 49, 58, 55, 362], [], []]\n",
      "inspects=[6, 10, 4, 10]\n",
      "round 2 \n",
      " [[16, 18, 21, 20, 122], [1468, 22, 150, 286, 739], [], []]\n",
      "inspects=[11, 15, 4, 15]\n",
      "round 3 \n",
      " [[491, 9, 52, 97, 248, 34], [39, 45, 43, 258], [], []]\n",
      "inspects=[16, 20, 4, 20]\n",
      "round 4 \n",
      " [[15, 17, 16, 88, 1037], [20, 110, 205, 524, 72], [], []]\n",
      "inspects=[22, 24, 4, 26]\n",
      "round 5 \n",
      " [[8, 70, 176, 26, 34], [481, 32, 36, 186, 2190], [], []]\n",
      "inspects=[27, 29, 5, 31]\n",
      "round 6 \n",
      " [[162, 12, 14, 64, 732, 17], [148, 372, 55, 72], [], []]\n",
      "inspects=[32, 34, 5, 36]\n",
      "round 7 \n",
      " [[51, 126, 20, 26, 136], [343, 26, 30, 1546, 36], [], []]\n",
      "inspects=[38, 38, 5, 42]\n",
      "round 8 \n",
      " [[116, 10, 12, 517, 14], [108, 267, 43, 55, 288], [], []]\n",
      "inspects=[43, 43, 5, 47]\n",
      "round 9 \n",
      " [[91, 16, 20, 98], [481, 245, 22, 26, 1092, 30], [], []]\n",
      "inspects=[48, 48, 6, 52]\n",
      "round 10 \n",
      " [[162, 83, 9, 10, 366, 12, 34], [193, 43, 207], [], []]\n",
      "inspects=[52, 54, 6, 56]\n",
      "round 11 \n",
      " [[66, 16, 71], [343, 176, 20, 22, 773, 26, 72], [], []]\n",
      "inspects=[59, 57, 6, 63]\n",
      "round 12 \n",
      " [[116, 60, 8, 9, 259, 10, 26, 34], [140, 150], [], []]\n",
      "inspects=[62, 64, 6, 66]\n",
      "round 13 \n",
      " [[48, 52, 17], [245, 127, 20, 547, 22, 55, 72], [], []]\n",
      "inspects=[70, 66, 6, 74]\n",
      "round 14 \n",
      " [[83, 44, 8, 184, 9, 20, 26, 102], [110, 36], [], []]\n",
      "inspects=[73, 73, 6, 77]\n",
      "round 15 \n",
      " [[14, 17], [481, 176, 93, 389, 20, 43, 55, 216], [], []]\n",
      "inspects=[81, 75, 7, 85]\n",
      "round 16 \n",
      " [[162, 60, 33, 131, 8, 16, 20, 74], [30, 36], [], []]\n",
      "inspects=[83, 83, 7, 87]\n",
      "round 17 \n",
      " [[12, 14, 17, 34], [343, 127, 70, 277, 43, 157], [], []]\n",
      "inspects=[91, 85, 7, 95]\n",
      "round 18 \n",
      " [[116, 44, 25, 94, 16, 54], [26, 30, 36, 72], [], []]\n",
      "inspects=[95, 91, 7, 99]\n",
      "round 19 \n",
      " [[10, 12, 14, 26, 34], [245, 93, 53, 199, 115], [], []]\n",
      "inspects=[101, 95, 7, 105]\n",
      "105 * 101 = 10605\n"
     ]
    }
   ],
   "source": [
    "with open(\"data/puzzle_11_test.txt\", \"r\") as fi:\n",
    "    lines = fi.readlines()\n",
    "    \n",
    "number_of_monkeys = sum([item.startswith(\"Monkey\") for item in lines])\n",
    "\n",
    "items = []\n",
    "operation = []\n",
    "for line in lines:\n",
    "    if line.startswith(\"  Starting items:\"):\n",
    "        items.append([int(x) for x in line.split(\":\")[1].strip().split(\",\")])\n",
    "\n",
    "\n",
    "operation = {\n",
    "    0: lambda x: x * 19,\n",
    "    1: lambda x: x + 6,\n",
    "    2: lambda x: x * x,\n",
    "    3: lambda x: x + 3,\n",
    "}\n",
    "\n",
    "test = {\n",
    "    0: 23,\n",
    "    1: 19,\n",
    "    2: 13,\n",
    "    3: 17,\n",
    "}\n",
    "\n",
    "true_condition = {\n",
    "    0: 2,\n",
    "    1: 2,\n",
    "    2: 1,\n",
    "    3: 0,\n",
    "}\n",
    "\n",
    "false_condition = {\n",
    "    0: 3,\n",
    "    1: 0,\n",
    "    2: 3,\n",
    "    3: 1,\n",
    "}\n",
    "\n",
    "# inspects = {\n",
    "#     0: 0,\n",
    "#     1: 0,\n",
    "#     2: 0,\n",
    "#     3: 0,\n",
    "# }\n",
    "\n",
    "inspects = [0, 0, 0, 0]\n",
    "\n",
    "for round in range(20):\n",
    "    for monkey in range(number_of_monkeys):\n",
    "        for i in range(len(items[monkey])):\n",
    "            try:\n",
    "                item = items[monkey].pop(0)\n",
    "            except IndexError:\n",
    "                continue\n",
    "            inspects[monkey] += 1\n",
    "            if int(operation[monkey](item) / 3) % test[monkey] == 0:\n",
    "                items[true_condition[monkey]] += [int(operation[monkey](item)/3)]\n",
    "            else:\n",
    "                items[false_condition[monkey]] += [int(operation[monkey](item)/3)]\n",
    "                \n",
    "    print(f\"round {round} \\n {items}\")\n",
    "\n",
    "    print(f\"{inspects=}\")\n",
    "\n",
    "a, b = list(sorted(inspects, reverse=True))[:2]\n",
    "print(f\"{a} * {b} = {a * b}\")"
   ]
  },
  {
   "cell_type": "code",
   "execution_count": 104,
   "metadata": {},
   "outputs": [
    {
     "name": "stdout",
     "output_type": "stream",
     "text": [
      "10605\n"
     ]
    }
   ],
   "source": []
  },
  {
   "cell_type": "markdown",
   "metadata": {},
   "source": [
    "# solution"
   ]
  },
  {
   "cell_type": "code",
   "execution_count": 119,
   "metadata": {},
   "outputs": [
    {
     "name": "stdout",
     "output_type": "stream",
     "text": [
      "[[85, 77, 77], [80, 99], [74, 60, 74, 63, 86, 92, 80], [71, 58, 93, 65, 80, 68, 54, 71], [97, 56, 79, 65, 58], [77], [99, 90, 84, 50], [50, 66, 61, 92, 64, 78]]\n",
      "[[2, 2, 2, 2, 2, 2, 2], [3, 3, 3], [], [2, 2, 2, 2, 2, 2, 2, 2, 2, 2, 2, 5, 5], [], [2, 2, 2, 2, 2, 2, 2, 2, 2, 2, 2, 2, 2], [], []]\n",
      "inspects=[217, 112, 37, 232, 236, 205, 41, 225]\n",
      "236 * 232 = 54752\n"
     ]
    }
   ],
   "source": [
    "with open(\"data/puzzle_11.txt\", \"r\") as fi:\n",
    "    lines = fi.readlines()\n",
    "\n",
    "items = []\n",
    "operation = []\n",
    "for line in lines:\n",
    "    if line.startswith(\"  Starting items:\"):\n",
    "        items.append([int(x) for x in line.split(\":\")[1].strip().split(\",\")])\n",
    "\n",
    "print(items)\n",
    "\n",
    "operation = {\n",
    "    0: lambda x: x * 7,\n",
    "    1: lambda x: x * 11,\n",
    "    2: lambda x: x + 8,\n",
    "    3: lambda x: x + 7,\n",
    "    4: lambda x: x + 5,\n",
    "    5: lambda x: x + 4,\n",
    "    6: lambda x: x * x,\n",
    "    7: lambda x: x + 3,\n",
    "}\n",
    "\n",
    "test = {\n",
    "    0: 19,\n",
    "    1: 3,\n",
    "    2: 13,\n",
    "    3: 7,\n",
    "    4: 5,\n",
    "    5: 11,\n",
    "    6: 17,\n",
    "    7: 2,\n",
    "}\n",
    "\n",
    "true_condition = {\n",
    "    0: 6,\n",
    "    1: 3,\n",
    "    2: 0,\n",
    "    3: 2,\n",
    "    4: 2,\n",
    "    5: 4,\n",
    "    6: 7,\n",
    "    7: 5,\n",
    "}\n",
    "\n",
    "false_condition = {\n",
    "    0: 7,\n",
    "    1: 5,\n",
    "    2: 6,\n",
    "    3: 4,\n",
    "    4: 0,\n",
    "    5: 3,\n",
    "    6: 1,\n",
    "    7: 1,\n",
    "}\n",
    "\n",
    "# inspects = {\n",
    "#     0: 0,\n",
    "#     1: 0,\n",
    "#     2: 0,\n",
    "#     3: 0,\n",
    "# }\n",
    "\n",
    "inspects = [0] * 8\n",
    "\n",
    "for round in range(20):\n",
    "    for monkey in range(8):\n",
    "        for i in range(len(items[monkey])):\n",
    "            try:\n",
    "                item = items[monkey].pop(0)\n",
    "            except IndexError:\n",
    "                continue\n",
    "            inspects[monkey] += 1\n",
    "            if int(operation[monkey](item) / 3) % test[monkey] == 0:\n",
    "                items[true_condition[monkey]] += [int(operation[monkey](item)/3)]\n",
    "            else:\n",
    "                items[false_condition[monkey]] += [int(operation[monkey](item)/3)]\n",
    "                \n",
    "    # print(f\"round {round} \\n {items}\")\n",
    "\n",
    "print(items)\n",
    "print(f\"{inspects=}\")\n",
    "\n",
    "a, b = list(sorted(inspects, reverse=True))[:2]\n",
    "print(f\"{a} * {b} = {a * b}\")\n",
    "#13806 wrong answer"
   ]
  },
  {
   "cell_type": "markdown",
   "metadata": {},
   "source": [
    "# part 2"
   ]
  },
  {
   "cell_type": "code",
   "execution_count": 130,
   "metadata": {},
   "outputs": [],
   "source": [
    "from tqdm import tqdm"
   ]
  },
  {
   "cell_type": "code",
   "execution_count": 132,
   "metadata": {},
   "outputs": [
    {
     "name": "stderr",
     "output_type": "stream",
     "text": [
      "100%|██████████| 10/10 [00:00<00:00, 52626.15it/s]"
     ]
    },
    {
     "name": "stdout",
     "output_type": "stream",
     "text": [
      "round 9 \n",
      " [[10881803, 196849870, 814571410, 470393649, 1227428338, 164774140531273, 199323803, 149803983], [177041072, 201802062], [], []]\n",
      "inspects=[46, 50, 4, 50]\n",
      "50 * 50 = 2500\n"
     ]
    },
    {
     "name": "stderr",
     "output_type": "stream",
     "text": [
      "\n"
     ]
    }
   ],
   "source": [
    "with open(\"data/puzzle_11_test.txt\", \"r\") as fi:\n",
    "    lines = fi.readlines()\n",
    "    \n",
    "number_of_monkeys = sum([item.startswith(\"Monkey\") for item in lines])\n",
    "\n",
    "items = []\n",
    "operation = []\n",
    "for line in lines:\n",
    "    if line.startswith(\"  Starting items:\"):\n",
    "        items.append([int(x) for x in line.split(\":\")[1].strip().split(\",\")])\n",
    "\n",
    "\n",
    "operation = {\n",
    "    0: lambda x: x * 19,\n",
    "    1: lambda x: x + 6,\n",
    "    2: lambda x: x * x,\n",
    "    3: lambda x: x + 3,\n",
    "}\n",
    "\n",
    "test = {\n",
    "    0: 23,\n",
    "    1: 19,\n",
    "    2: 13,\n",
    "    3: 17,\n",
    "}\n",
    "\n",
    "true_condition = {\n",
    "    0: 2,\n",
    "    1: 2,\n",
    "    2: 1,\n",
    "    3: 0,\n",
    "}\n",
    "\n",
    "false_condition = {\n",
    "    0: 3,\n",
    "    1: 0,\n",
    "    2: 3,\n",
    "    3: 1,\n",
    "}\n",
    "\n",
    "# inspects = {\n",
    "#     0: 0,\n",
    "#     1: 0,\n",
    "#     2: 0,\n",
    "#     3: 0,\n",
    "# }\n",
    "\n",
    "inspects = [0, 0, 0, 0]\n",
    "\n",
    "for round in tqdm(range(10)):\n",
    "    for monkey in range(number_of_monkeys):\n",
    "        for i in range(len(items[monkey])):\n",
    "            try:\n",
    "                item = items[monkey].pop(0)\n",
    "            except IndexError:\n",
    "                continue\n",
    "            inspects[monkey] += 1\n",
    "            if int(operation[monkey](item)) % test[monkey] == 0:\n",
    "                items[true_condition[monkey]] += [int(operation[monkey](item))]\n",
    "            else:\n",
    "                items[false_condition[monkey]] += [int(operation[monkey](item))]\n",
    "                \n",
    "print(f\"round {round} \\n {items}\")\n",
    "print(f\"{inspects=}\")\n",
    "\n",
    "a, b = list(sorted(inspects, reverse=True))[:2]\n",
    "print(f\"{a} * {b} = {a * b}\")"
   ]
  },
  {
   "cell_type": "code",
   "execution_count": null,
   "metadata": {},
   "outputs": [],
   "source": [
    "with open(\"data/puzzle_11.txt\", \"r\") as fi:\n",
    "    lines = fi.readlines()\n",
    "\n",
    "items = []\n",
    "operation = []\n",
    "for line in lines:\n",
    "    if line.startswith(\"  Starting items:\"):\n",
    "        items.append([int(x) for x in line.split(\":\")[1].strip().split(\",\")])\n",
    "\n",
    "print(items)\n",
    "\n",
    "operation = {\n",
    "    0: lambda x: x * 7,\n",
    "    1: lambda x: x * 11,\n",
    "    2: lambda x: x + 8,\n",
    "    3: lambda x: x + 7,\n",
    "    4: lambda x: x + 5,\n",
    "    5: lambda x: x + 4,\n",
    "    6: lambda x: x * x,\n",
    "    7: lambda x: x + 3,\n",
    "}\n",
    "\n",
    "test = {\n",
    "    0: 19,\n",
    "    1: 3,\n",
    "    2: 13,\n",
    "    3: 7,\n",
    "    4: 5,\n",
    "    5: 11,\n",
    "    6: 17,\n",
    "    7: 2,\n",
    "}\n",
    "\n",
    "true_condition = {\n",
    "    0: 6,\n",
    "    1: 3,\n",
    "    2: 0,\n",
    "    3: 2,\n",
    "    4: 2,\n",
    "    5: 4,\n",
    "    6: 7,\n",
    "    7: 5,\n",
    "}\n",
    "\n",
    "false_condition = {\n",
    "    0: 7,\n",
    "    1: 5,\n",
    "    2: 6,\n",
    "    3: 4,\n",
    "    4: 0,\n",
    "    5: 3,\n",
    "    6: 1,\n",
    "    7: 1,\n",
    "}\n",
    "\n",
    "# inspects = {\n",
    "#     0: 0,\n",
    "#     1: 0,\n",
    "#     2: 0,\n",
    "#     3: 0,\n",
    "# }\n",
    "\n",
    "inspects = [0] * 8\n",
    "\n",
    "for round in range(20):\n",
    "    for monkey in range(8):\n",
    "        for i in range(len(items[monkey])):\n",
    "            try:\n",
    "                item = items[monkey].pop(0)\n",
    "            except IndexError:\n",
    "                continue\n",
    "            inspects[monkey] += 1\n",
    "            if int(operation[monkey](item) / 3) % test[monkey] == 0:\n",
    "                items[true_condition[monkey]] += [int(operation[monkey](item)/3)]\n",
    "            else:\n",
    "                items[false_condition[monkey]] += [int(operation[monkey](item)/3)]\n",
    "                \n",
    "    # print(f\"round {round} \\n {items}\")\n",
    "\n",
    "print(items)\n",
    "print(f\"{inspects=}\")\n",
    "\n",
    "a, b = list(sorted(inspects, reverse=True))[:2]\n",
    "print(f\"{a} * {b} = {a * b}\")\n"
   ]
  },
  {
   "cell_type": "code",
   "execution_count": 136,
   "metadata": {},
   "outputs": [
    {
     "data": {
      "text/plain": [
       "[[79, 98], [54, 65, 75, 74], [79, 60, 97], [74]]"
      ]
     },
     "execution_count": 136,
     "metadata": {},
     "output_type": "execute_result"
    }
   ],
   "source": [
    "with open(\"data/puzzle_11_test.txt\", \"r\") as fi:\n",
    "    lines = fi.readlines()\n",
    "\n",
    "items = []\n",
    "operation = []\n",
    "for line in lines:\n",
    "    if line.startswith(\"  Starting items:\"):\n",
    "        items.append([int(x) for x in line.split(\":\")[1].strip().split(\",\")])\n",
    "        \n",
    "items"
   ]
  },
  {
   "cell_type": "code",
   "execution_count": 36,
   "metadata": {},
   "outputs": [
    {
     "data": {
      "text/plain": [
       "1"
      ]
     },
     "execution_count": 36,
     "metadata": {},
     "output_type": "execute_result"
    }
   ],
   "source": [
    "26 % 5"
   ]
  },
  {
   "cell_type": "code",
   "execution_count": 48,
   "metadata": {},
   "outputs": [
    {
     "name": "stdout",
     "output_type": "stream",
     "text": [
      "0\n",
      "[[], [54, 65], 75, [74]]\n",
      "1\n",
      "[[], [54, 65], 75, [74]]\n",
      "2\n",
      "[[], [54], 65, [74]]\n"
     ]
    },
    {
     "ename": "AttributeError",
     "evalue": "'int' object has no attribute 'pop'",
     "output_type": "error",
     "traceback": [
      "\u001b[0;31m---------------------------------------------------------------------------\u001b[0m",
      "\u001b[0;31mAttributeError\u001b[0m                            Traceback (most recent call last)",
      "Cell \u001b[0;32mIn [48], line 5\u001b[0m\n\u001b[1;32m      3\u001b[0m \u001b[39mprint\u001b[39m(items)\n\u001b[1;32m      4\u001b[0m \u001b[39mtry\u001b[39;00m:\n\u001b[0;32m----> 5\u001b[0m     item \u001b[39m=\u001b[39m items[monkey]\u001b[39m.\u001b[39;49mpop()\n\u001b[1;32m      6\u001b[0m \u001b[39mexcept\u001b[39;00m \u001b[39mIndexError\u001b[39;00m:\n\u001b[1;32m      7\u001b[0m     \u001b[39mcontinue\u001b[39;00m\n",
      "\u001b[0;31mAttributeError\u001b[0m: 'int' object has no attribute 'pop'"
     ]
    }
   ],
   "source": []
  },
  {
   "cell_type": "code",
   "execution_count": 42,
   "metadata": {},
   "outputs": [
    {
     "ename": "IndexError",
     "evalue": "pop from empty list",
     "output_type": "error",
     "traceback": [
      "\u001b[0;31m---------------------------------------------------------------------------\u001b[0m",
      "\u001b[0;31mIndexError\u001b[0m                                Traceback (most recent call last)",
      "Cell \u001b[0;32mIn [42], line 7\u001b[0m\n\u001b[1;32m      5\u001b[0m i\u001b[39m.\u001b[39mpop()\n\u001b[1;32m      6\u001b[0m i\u001b[39m.\u001b[39mpop()\n\u001b[0;32m----> 7\u001b[0m i\u001b[39m.\u001b[39;49mpop()\n",
      "\u001b[0;31mIndexError\u001b[0m: pop from empty list"
     ]
    }
   ],
   "source": [
    "i = [1, 2, 3, 4]\n",
    "\n",
    "i.pop()\n",
    "i.pop()\n",
    "i.pop()\n",
    "i.pop()\n",
    "i.pop()"
   ]
  }
 ],
 "metadata": {
  "kernelspec": {
   "display_name": "Python 3.11.0 ('advent-of-code')",
   "language": "python",
   "name": "python3"
  },
  "language_info": {
   "codemirror_mode": {
    "name": "ipython",
    "version": 3
   },
   "file_extension": ".py",
   "mimetype": "text/x-python",
   "name": "python",
   "nbconvert_exporter": "python",
   "pygments_lexer": "ipython3",
   "version": "3.11.0"
  },
  "orig_nbformat": 4,
  "vscode": {
   "interpreter": {
    "hash": "b5966cc818569b022bb8a4a189a98b63798b4fcabe85cfb426c6a70cd38586e9"
   }
  }
 },
 "nbformat": 4,
 "nbformat_minor": 2
}
