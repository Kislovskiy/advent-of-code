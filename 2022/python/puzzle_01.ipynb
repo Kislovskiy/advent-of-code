{
 "cells": [
  {
   "cell_type": "code",
   "execution_count": 1,
   "metadata": {},
   "outputs": [],
   "source": [
    "from utils import read_input_file"
   ]
  },
  {
   "cell_type": "code",
   "execution_count": 2,
   "metadata": {},
   "outputs": [],
   "source": [
    "inp = read_input_file(\"data/puzzle_01.txt\")\n",
    "\n",
    "max_calories = 0\n",
    "current_calories = 0\n",
    "\n",
    "summation = []\n",
    "\n",
    "for element in inp:\n",
    "    if element:\n",
    "        current_calories += int(element)\n",
    "    else:\n",
    "        summation.append(current_calories)\n",
    "        current_calories = 0"
   ]
  },
  {
   "cell_type": "code",
   "execution_count": 4,
   "metadata": {},
   "outputs": [
    {
     "data": {
      "text/plain": [
       "71300"
      ]
     },
     "execution_count": 4,
     "metadata": {},
     "output_type": "execute_result"
    }
   ],
   "source": [
    "max(summation)"
   ]
  },
  {
   "cell_type": "code",
   "execution_count": 11,
   "metadata": {},
   "outputs": [
    {
     "name": "stdout",
     "output_type": "stream",
     "text": [
      "209691\n"
     ]
    }
   ],
   "source": [
    "print(sum(sorted(summation, reverse=True)[:3]))"
   ]
  }
 ],
 "metadata": {
  "kernelspec": {
   "display_name": "Python 3.11.0 ('advent-of-code')",
   "language": "python",
   "name": "python3"
  },
  "language_info": {
   "codemirror_mode": {
    "name": "ipython",
    "version": 3
   },
   "file_extension": ".py",
   "mimetype": "text/x-python",
   "name": "python",
   "nbconvert_exporter": "python",
   "pygments_lexer": "ipython3",
   "version": "3.11.0"
  },
  "orig_nbformat": 4,
  "vscode": {
   "interpreter": {
    "hash": "b5966cc818569b022bb8a4a189a98b63798b4fcabe85cfb426c6a70cd38586e9"
   }
  }
 },
 "nbformat": 4,
 "nbformat_minor": 2
}
